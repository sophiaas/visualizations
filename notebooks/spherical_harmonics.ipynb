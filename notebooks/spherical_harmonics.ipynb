{
 "cells": [
  {
   "cell_type": "code",
   "execution_count": 1,
   "metadata": {},
   "outputs": [],
   "source": [
    "%matplotlib widget\n",
    "%load_ext autoreload\n",
    "%autoreload 2\n",
    "import math\n",
    "import numpy as np\n",
    "import matplotlib.pyplot as plt\n",
    "import matplotlib.gridspec as gridspec\n",
    "from mpl_toolkits.mplot3d import axes3d\n",
    "from matplotlib import animation\n",
    "from matplotlib import cm\n",
    "from IPython.display import HTML\n",
    "from ipywidgets import AppLayout, IntSlider, FloatSlider, interact\n",
    "from scipy.special import sph_harm\n",
    "import pdb"
   ]
  },
  {
   "cell_type": "markdown",
   "metadata": {},
   "source": [
    "Legendre polynomials:\n",
    "\n",
    "$$\n",
    "P_\\ell^m(x) = \\frac{(-\\ell)^m}{2^\\ell \\ell!}(1 - x^2)^{m/2} \\frac{d^{\\ell+m}}{dx^{\\ell+m}}(x^2 - \\ell)^\\ell\n",
    "$$\n",
    "\n",
    "Note that this formula is only well-defined and nonzero for $\\ell \\geq 0$ and $m$ integers such that $|m| \\leq \\ell$. We can ensure these conditions by requiring that solutions are periodic in $\\theta$ and $\\phi$\n",
    "\n",
    "The general solutions for the Legendre polynomials are the linearly dependent **spherical harmonics**:\n",
    "\n",
    "$$\n",
    "Y_\\ell^m(\\theta, \\phi) = \\sqrt{\\frac{2 \\ell + 1 (\\ell - m) !}{ 4 \\pi (\\ell + m) !)}} P^m_\\ell (cos \\theta) e ^{i m \\phi}\n",
    "$$"
   ]
  },
  {
   "cell_type": "code",
   "execution_count": 4,
   "metadata": {},
   "outputs": [],
   "source": [
    "def assoc_legendre_polynomial(l, m, x):\n",
    "    term1 = (-l ** m) / (2 ** l) * np.math.factorial(l)\n",
    "    term2 = (1 - x ** 2) ** (m / 2)\n",
    "    term3 = (d ** (l + m)) / (d * x**(l + m))\n",
    "    term4 = (x ** 2 - l) ** l\n",
    "    return term1 * term2 * term3 * term4"
   ]
  },
  {
   "cell_type": "code",
   "execution_count": 28,
   "metadata": {},
   "outputs": [],
   "source": [
    "def assoc_legendre_polynomial(l, m, theta):\n",
    "    numer = 2 * l + 1 * np.math.factorial(l - m)\n",
    "    denom = 2 * np.math.factorial(l + m)\n",
    "    return np.sqrt(numer / denom)"
   ]
  },
  {
   "cell_type": "code",
   "execution_count": 5,
   "metadata": {},
   "outputs": [],
   "source": [
    "def spherical_harmonics(l, m, theta, phi):\n",
    "    fact1 = np.math.factorial(l - m)\n",
    "    fact2 = np.math.factorial(l + m)\n",
    "    term1 = np.sqrt((2* l + fact1) / (4 * np.pi * fact2))\n",
    "    term2 = assoc_legendre_polynomial(l, m, np.cos(theta))\n",
    "    term3 = np.exp(1j * m * phi)\n",
    "    return term1 * term2 * term3"
   ]
  },
  {
   "cell_type": "code",
   "execution_count": 21,
   "metadata": {},
   "outputs": [],
   "source": [
    "def spherical_to_cartesian(r, phi, theta):\n",
    "    \"\"\"\n",
    "    r: radius in {0, inf}\n",
    "    phi: polar coordinate in {0, 2pi}\n",
    "    theta: azimuthal coordinate in {0, pi}\n",
    "    \"\"\"\n",
    "    x = r * np.sin(theta) * np.cos(phi)\n",
    "    y = r * np.sin(theta) * np.sin(phi)\n",
    "    z = r * np.cos(theta)\n",
    "    return x, y, z"
   ]
  },
  {
   "cell_type": "code",
   "execution_count": 27,
   "metadata": {},
   "outputs": [
    {
     "data": {
      "application/vnd.jupyter.widget-view+json": {
       "model_id": "d6c21913f0a044389f6ad13539798f0a",
       "version_major": 2,
       "version_minor": 0
      },
      "text/plain": [
       "Canvas(toolbar=Toolbar(toolitems=[('Home', 'Reset original view', 'home', 'home'), ('Back', 'Back to previous …"
      ]
     },
     "metadata": {},
     "output_type": "display_data"
    },
    {
     "data": {
      "text/plain": [
       "<mpl_toolkits.mplot3d.art3d.Poly3DCollection at 0x7fae5fa9d518>"
      ]
     },
     "execution_count": 27,
     "metadata": {},
     "output_type": "execute_result"
    }
   ],
   "source": [
    "# phi running from 0 to pi and tta from 0 to pi\n",
    "phi = np.linspace(0, 2 * np.pi, 25)\n",
    "theta = np.linspace(0, np.pi, 25)\n",
    "\n",
    "# meshgrid to generate points\n",
    "phi, theta = np.meshgrid(phi, theta)\n",
    "\n",
    "# THIS IS THE FUNCTION\n",
    "Y = np.cos(theta)\n",
    "# finally all things in cartesian co-ordinate system\n",
    "# Note that \"Y\" is acting as \"r\"\n",
    "x, y, z = spherical_to_cartesian(np.abs(Y), phi, theta)\n",
    "\n",
    "# plotting :-\n",
    "fig = plt.figure()\n",
    "ax = fig.add_subplot( 111 , projection='3d')\n",
    "ax.plot_surface(x, y, z, linewidth = 0.5, edgecolors = 'k', facecolors=cm.jet(Y))"
   ]
  },
  {
   "cell_type": "code",
   "execution_count": 2,
   "metadata": {},
   "outputs": [],
   "source": [
    "phi = np.linspace(0, 2 * np.pi, 25)\n",
    "theta = np.linspace(0, np.pi, 25)\n",
    "\n",
    "# meshgrid to generate points\n",
    "phi, theta = np.meshgrid(phi, theta)"
   ]
  },
  {
   "cell_type": "code",
   "execution_count": 36,
   "metadata": {},
   "outputs": [],
   "source": [
    "harm = sph_harm(1, 1, phi, theta)"
   ]
  },
  {
   "cell_type": "code",
   "execution_count": 48,
   "metadata": {},
   "outputs": [],
   "source": [
    "x, y, z = spherical_to_cartesian(np.abs(harm), phi, theta)"
   ]
  },
  {
   "cell_type": "code",
   "execution_count": 49,
   "metadata": {},
   "outputs": [
    {
     "data": {
      "application/vnd.jupyter.widget-view+json": {
       "model_id": "fd9a6f05e0164e75bba682f981d0ee34",
       "version_major": 2,
       "version_minor": 0
      },
      "text/plain": [
       "Canvas(toolbar=Toolbar(toolitems=[('Home', 'Reset original view', 'home', 'home'), ('Back', 'Back to previous …"
      ]
     },
     "metadata": {},
     "output_type": "display_data"
    },
    {
     "data": {
      "text/plain": [
       "<mpl_toolkits.mplot3d.art3d.Poly3DCollection at 0x7fae640706a0>"
      ]
     },
     "execution_count": 49,
     "metadata": {},
     "output_type": "execute_result"
    }
   ],
   "source": [
    "# plotting :-\n",
    "fig = plt.figure()\n",
    "ax = fig.add_subplot( 111 , projection='3d')\n",
    "ax.plot_surface(x, y, z, linewidth = 0.5, edgecolors = 'k', facecolors=cm.jet(Y))"
   ]
  },
  {
   "cell_type": "code",
   "execution_count": 3,
   "metadata": {},
   "outputs": [
    {
     "data": {
      "application/vnd.jupyter.widget-view+json": {
       "model_id": "30ca87c7c3124d66894949fac879b2e2",
       "version_major": 2,
       "version_minor": 0
      },
      "text/plain": [
       "Canvas(toolbar=Toolbar(toolitems=[('Home', 'Reset original view', 'home', 'home'), ('Back', 'Back to previous …"
      ]
     },
     "metadata": {},
     "output_type": "display_data"
    }
   ],
   "source": [
    "# plt.rc('text', usetex=True)\n",
    "\n",
    "# Grids of polar and azimuthal angles\n",
    "theta = np.linspace(0, np.pi, 100)\n",
    "phi = np.linspace(0, 2*np.pi, 100)\n",
    "# Create a 2-D meshgrid of (theta, phi) angles.\n",
    "theta, phi = np.meshgrid(theta, phi)\n",
    "# Calculate the Cartesian coordinates of each point in the mesh.\n",
    "xyz = np.array([np.sin(theta) * np.sin(phi),\n",
    "                np.sin(theta) * np.cos(phi),\n",
    "                np.cos(theta)])\n",
    "\n",
    "def plot_Y(ax, el, m):\n",
    "    \"\"\"Plot the spherical harmonic of degree el and order m on Axes ax.\"\"\"\n",
    "\n",
    "    # NB In SciPy's sph_harm function the azimuthal coordinate, theta,\n",
    "    # comes before the polar coordinate, phi.\n",
    "    Y = sph_harm(abs(m), el, phi, theta)\n",
    "\n",
    "    # Linear combination of Y_l,m and Y_l,-m to create the real form.\n",
    "    if m < 0:\n",
    "        Y = np.sqrt(2) * (-1)**m * Y.imag\n",
    "    elif m > 0:\n",
    "        Y = np.sqrt(2) * (-1)**m * Y.real\n",
    "    Yx, Yy, Yz = np.abs(Y) * xyz\n",
    "\n",
    "    # Colour the plotted surface according to the sign of Y.\n",
    "    cmap = plt.cm.ScalarMappable(cmap=plt.get_cmap('PRGn'))\n",
    "    cmap.set_clim(-0.5, 0.5)\n",
    "\n",
    "    ax.plot_surface(Yx, Yy, Yz,\n",
    "                    facecolors=cmap.to_rgba(Y.real),\n",
    "                    rstride=2, cstride=2)\n",
    "\n",
    "    # Draw a set of x, y, z axes for reference.\n",
    "    ax_lim = 0.5\n",
    "    ax.plot([-ax_lim, ax_lim], [0,0], [0,0], c='0.5', lw=1, zorder=10)\n",
    "    ax.plot([0,0], [-ax_lim, ax_lim], [0,0], c='0.5', lw=1, zorder=10)\n",
    "    ax.plot([0,0], [0,0], [-ax_lim, ax_lim], c='0.5', lw=1, zorder=10)\n",
    "    # Set the Axes limits and title, turn off the Axes frame.\n",
    "    ax.set_title(r'$Y_{{{},{}}}$'.format(el, m))\n",
    "    ax_lim = 0.5\n",
    "    ax.set_xlim(-ax_lim, ax_lim)\n",
    "    ax.set_ylim(-ax_lim, ax_lim)\n",
    "    ax.set_zlim(-ax_lim, ax_lim)\n",
    "    ax.axis('off')\n",
    "\n",
    "fig = plt.figure(figsize=plt.figaspect(1.))\n",
    "ax = fig.add_subplot(projection='3d')\n",
    "l, m = 3, 0\n",
    "plot_Y(ax, l, m)\n",
    "plt.savefig('Y{}_{}.png'.format(l, m))\n",
    "plt.show()\n"
   ]
  },
  {
   "cell_type": "code",
   "execution_count": 5,
   "metadata": {},
   "outputs": [
    {
     "data": {
      "application/vnd.jupyter.widget-view+json": {
       "model_id": "a77e96f64fe3469ab3b6866342d1ca29",
       "version_major": 2,
       "version_minor": 0
      },
      "text/plain": [
       "Canvas(toolbar=Toolbar(toolitems=[('Home', 'Reset original view', 'home', 'home'), ('Back', 'Back to previous …"
      ]
     },
     "metadata": {},
     "output_type": "display_data"
    }
   ],
   "source": [
    "el_max = 3\n",
    "figsize_px, DPI = 800, 100\n",
    "figsize_in = figsize_px / DPI\n",
    "fig = plt.figure(figsize=(figsize_in, figsize_in), dpi=DPI)\n",
    "spec = gridspec.GridSpec(ncols=2*el_max+1, nrows=el_max+1, figure=fig)\n",
    "for el in range(el_max+1):\n",
    "    for m_el in range(-el, el+1):\n",
    "        ax = fig.add_subplot(spec[el, m_el+el_max], projection='3d')\n",
    "        plot_Y(ax, el, m_el)\n",
    "plt.tight_layout()\n",
    "# plt.savefig('sph_harm.png')\n",
    "plt.show()"
   ]
  },
  {
   "cell_type": "code",
   "execution_count": null,
   "metadata": {},
   "outputs": [],
   "source": []
  }
 ],
 "metadata": {
  "kernelspec": {
   "display_name": "Python 3",
   "language": "python",
   "name": "python3"
  },
  "language_info": {
   "codemirror_mode": {
    "name": "ipython",
    "version": 3
   },
   "file_extension": ".py",
   "mimetype": "text/x-python",
   "name": "python",
   "nbconvert_exporter": "python",
   "pygments_lexer": "ipython3",
   "version": "3.6.9"
  }
 },
 "nbformat": 4,
 "nbformat_minor": 4
}
